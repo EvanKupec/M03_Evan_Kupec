{
 "cells": [
  {
   "cell_type": "code",
   "execution_count": 8,
   "id": "cf4afc41",
   "metadata": {},
   "outputs": [],
   "source": [
    "#Sort an Array\n",
    "\n",
    "class Solution:\n",
    "    def sort012(self,arr,n):\n",
    "        low, mid, high = 0, 0, n - 1\n",
    "\n",
    "        while mid <= high:\n",
    "            if arr[mid] == 0:\n",
    "                arr[low], arr[mid] = arr[mid], arr[low]\n",
    "                low += 1\n",
    "                mid += 1\n",
    "            elif arr[mid] == 1:\n",
    "                mid += 1\n",
    "            else:\n",
    "                arr[mid], arr[high] = arr[high], arr[mid]\n",
    "                high -= 1"
   ]
  },
  {
   "cell_type": "code",
   "execution_count": 9,
   "id": "f34f6e91",
   "metadata": {},
   "outputs": [],
   "source": [
    "#Sort Binary\n",
    "\n",
    "class Solution:\n",
    "    def binarysearch(self, arr, n, k):\n",
    "        low, high = 0, n - 1\n",
    "        while low <= high:\n",
    "            mid = (low + high) // 2\n",
    "            \n",
    "            if arr[mid] == k:\n",
    "                 return mid  # Found the element, return its index\n",
    "            elif arr[mid] < k:\n",
    "                  low = mid + 1\n",
    "            else:\n",
    "                  high = mid - 1\n",
    "\n",
    "        return -1"
   ]
  }
 ],
 "metadata": {
  "kernelspec": {
   "display_name": "Python 3 (ipykernel)",
   "language": "python",
   "name": "python3"
  },
  "language_info": {
   "codemirror_mode": {
    "name": "ipython",
    "version": 3
   },
   "file_extension": ".py",
   "mimetype": "text/x-python",
   "name": "python",
   "nbconvert_exporter": "python",
   "pygments_lexer": "ipython3",
   "version": "3.11.5"
  }
 },
 "nbformat": 4,
 "nbformat_minor": 5
}
